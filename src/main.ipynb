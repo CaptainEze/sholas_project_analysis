{
 "cells": [
  {
   "cell_type": "markdown",
   "id": "b97fced7",
   "metadata": {},
   "source": [
    "# Preprocessing"
   ]
  },
  {
   "cell_type": "code",
   "execution_count": null,
   "id": "cdcbc853",
   "metadata": {},
   "outputs": [],
   "source": [
    "\n",
    "import sys\n",
    "sys.path.append('functions')\n",
    "\n",
    "\n",
    "from preprocess import load_data, preprocess_data\n",
    "\n",
    "data = load_data()\n",
    "preprocess_data(data)"
   ]
  },
  {
   "cell_type": "markdown",
   "id": "b650f270",
   "metadata": {},
   "source": [
    "# EDA"
   ]
  },
  {
   "cell_type": "code",
   "execution_count": null,
   "id": "b374c32b",
   "metadata": {},
   "outputs": [],
   "source": [
    "from eda import load_preprocessed_data, perform_eda\n",
    "\n",
    "# Execute EDA\n",
    "df = load_preprocessed_data()   \n",
    "perform_eda(df)"
   ]
  },
  {
   "cell_type": "markdown",
   "id": "30cb2035",
   "metadata": {},
   "source": [
    "# Modelling: RFC"
   ]
  },
  {
   "cell_type": "markdown",
   "id": "4da918e7",
   "metadata": {},
   "source": [
    "## Random Classifier"
   ]
  },
  {
   "cell_type": "code",
   "execution_count": null,
   "id": "3ee763f5",
   "metadata": {},
   "outputs": [],
   "source": [
    "from modeling_rf_optimized import load_data, prepare_data, train_model, save_model\n",
    "\n",
    "df = load_data()\n",
    "X, y, encoder = prepare_data(df)\n",
    "model = train_model(X, y)\n",
    "save_model(model, encoder)"
   ]
  },
  {
   "cell_type": "markdown",
   "id": "835c159d",
   "metadata": {},
   "source": [
    "## Logistic Regression"
   ]
  },
  {
   "cell_type": "code",
   "execution_count": null,
   "id": "15fbe6c8",
   "metadata": {},
   "outputs": [],
   "source": [
    "from modeling_lr import load_data, prepare_data, train_model, save_model\n",
    "\n",
    "df = load_data()\n",
    "X, y, encoder = prepare_data(df)\n",
    "model = train_model(X, y)\n",
    "save_model(model, encoder)\n",
    "\n"
   ]
  },
  {
   "cell_type": "markdown",
   "id": "a71e9623",
   "metadata": {},
   "source": [
    "## Model Comparison"
   ]
  },
  {
   "cell_type": "code",
   "execution_count": null,
   "id": "091ff5c1",
   "metadata": {},
   "outputs": [],
   "source": [
    "from model_comparison import load_data, train_and_compare_models\n",
    "\n",
    "X, y = load_data(file_path=\"../data/preprocessed_data.xlsx\", target_col=\"Target\")\n",
    "\n",
    "# Run model comparison\n",
    "if X is not None and y is not None:\n",
    "    results_df, best_model = train_and_compare_models(X, y, output_dir=\"../results/modeling\")\n",
    "    print(results_df)\n",
    "    print(f\"Best model: {best_model}\")\n"
   ]
  },
  {
   "cell_type": "markdown",
   "id": "44c09d9f",
   "metadata": {},
   "source": [
    "## Performance Benchmark"
   ]
  },
  {
   "cell_type": "code",
   "execution_count": null,
   "id": "635a4b20",
   "metadata": {},
   "outputs": [],
   "source": [
    "from performance_benchmark import performance_benchmark\n",
    "\n",
    "benchmark_values = {\n",
    "    \"Average MTBF\": 150,  # replace with your benchmark\n",
    "    \"Average MTTR\": 5,\n",
    "    \"Avg Cost per Failure\": 2000\n",
    "}\n",
    "\n",
    "performance_benchmark(\"../data/preprocessed_data.xlsx\", benchmark_values=benchmark_values)\n"
   ]
  }
 ],
 "metadata": {
  "kernelspec": {
   "display_name": "venv",
   "language": "python",
   "name": "python3"
  },
  "language_info": {
   "codemirror_mode": {
    "name": "ipython",
    "version": 3
   },
   "file_extension": ".py",
   "mimetype": "text/x-python",
   "name": "python",
   "nbconvert_exporter": "python",
   "pygments_lexer": "ipython3",
   "version": "3.13.5"
  }
 },
 "nbformat": 4,
 "nbformat_minor": 5
}
